{
 "cells": [
  {
   "cell_type": "code",
   "execution_count": 30,
   "metadata": {},
   "outputs": [],
   "source": [
    "import os\n",
    "import numpy as np\n",
    "import cv2\n",
    "import matplotlib.pyplot as plt \n",
    "\n",
    "from metavision_core.event_io.raw_reader import RawReader\n",
    "from metavision_core.event_io.py_reader import EventDatReader"
   ]
  },
  {
   "cell_type": "code",
   "execution_count": 31,
   "metadata": {},
   "outputs": [
    {
     "name": "stdout",
     "output_type": "stream",
     "text": [
      "RawReader(marker.raw)\n",
      "current time : 0us done : False\n",
      "current event index : 0\n",
      "_begin_buffer 0,_end_buffer_ 0,  buffer_size 100000000\n"
     ]
    }
   ],
   "source": [
    "#Choose Raw Event File\n",
    "input_path_raw = \"marker.raw\"\n",
    "\n",
    "# open a file\n",
    "record_raw = RawReader(input_path_raw)\n",
    "print(record_raw)  # show some metadata\n",
    "\n",
    "#Get Events\n",
    "events = record_raw.load_n_events(50)  # load the 50 next events\n",
    "events_by_time = record_raw.load_delta_t(10000)  # load the next 10ms of data"
   ]
  },
  {
   "cell_type": "code",
   "execution_count": 48,
   "metadata": {},
   "outputs": [
    {
     "data": {
      "text/plain": [
       "array([  0.,   1.,   2.,   3.,   4.,   5.,   6.,   7.,   8.,   9.,  10.,\n",
       "        11.,  12.,  13.,  14.,  15.,  16.,  17.,  18.,  19.,  20.,  21.,\n",
       "        22.,  23.,  24.,  25.,  26.,  27.,  28.,  29.,  30.,  31.,  32.,\n",
       "        33.,  34.,  35.,  36.,  37.,  38.,  39.,  40.,  41.,  42.,  43.,\n",
       "        44.,  45.,  46.,  47.,  48.,  49.,  50.,  51.,  52.,  53.,  54.,\n",
       "        55.,  56.,  57.,  58.,  59.,  60.,  61.,  62.,  63.,  64.,  65.,\n",
       "        66.,  67.,  68.,  69.,  70.,  71.,  72.,  73.,  74.,  75.,  76.,\n",
       "        77.,  78.,  79.,  80.,  81.,  82.,  83.,  84.,  85.,  86.,  87.,\n",
       "        88.,  89.,  90.,  91.,  92.,  93.,  94.,  95.,  96.,  97.,  98.,\n",
       "        99., 100., 101., 102., 103., 104., 105., 106., 107., 108., 109.,\n",
       "       110., 111., 112., 113., 114., 115., 116., 117., 118., 119., 120.,\n",
       "       121., 122., 123., 124., 125., 126., 127., 128., 129., 130., 131.,\n",
       "       132., 133., 134., 135., 136., 137., 138., 139., 140., 141., 142.,\n",
       "       143., 144., 145., 146., 147., 148., 149., 150., 151., 152., 153.,\n",
       "       154., 155., 156., 157., 158., 159., 160., 161., 162., 163., 164.,\n",
       "       165., 166., 167., 168., 169., 170., 171., 172., 173., 174., 175.,\n",
       "       176., 177., 178., 179., 180., 181., 182., 183., 184., 185., 186.,\n",
       "       187., 188., 189., 190., 191., 192., 193., 194., 195., 196., 197.,\n",
       "       198., 199., 200., 201., 202., 203., 204., 205., 206., 207., 208.,\n",
       "       209., 210., 211., 212., 213., 214., 215., 216., 217., 218., 219.,\n",
       "       220., 221., 222., 223., 224., 225., 226., 227., 228., 229., 230.,\n",
       "       231., 232., 233., 234., 235., 236., 237., 238., 239., 240., 241.,\n",
       "       242., 243., 244., 245., 246., 247., 248., 249., 250., 251., 252.,\n",
       "       253., 254., 255., 256., 257., 258., 259., 260., 261., 262., 263.,\n",
       "       264., 265., 266., 267., 268., 269., 270., 271., 272., 273., 274.,\n",
       "       275., 276., 277., 278., 279., 280., 281., 282., 283., 284., 285.,\n",
       "       286., 287., 288., 289., 290., 291., 292., 293., 294., 295., 296.,\n",
       "       297., 298., 299., 300., 301., 302., 303., 304., 305., 306., 307.,\n",
       "       308., 309., 310., 311., 312., 313., 314., 315., 316., 317., 318.,\n",
       "       319., 320., 321., 322., 323., 324., 325., 326., 327., 328., 329.,\n",
       "       330., 331., 332., 333., 334., 335., 336., 337., 338., 339., 340.,\n",
       "       341., 342., 343., 344., 345., 346., 347., 348., 349., 350., 351.,\n",
       "       352., 353., 354., 355., 356., 357., 358., 359.])"
      ]
     },
     "execution_count": 48,
     "metadata": {},
     "output_type": "execute_result"
    }
   ],
   "source": [
    "#Extract Event Data Coordinates\n",
    "y_values = events['y']\n",
    "x_values = events['x']\n",
    "\n",
    "#Create Additional Parameters\n",
    "#theta = np.linspace(0,359,num=360)\n",
    "#rho = np.zeros((theta.shape[0],x_values.shape[0]))\n",
    "\n",
    "height, width = record_raw.get_size()\n",
    "#theta\n"
   ]
  },
  {
   "cell_type": "code",
   "execution_count": 63,
   "metadata": {},
   "outputs": [
    {
     "name": "stdout",
     "output_type": "stream",
     "text": [
      "179\n",
      "179.0\n",
      "0\n"
     ]
    },
    {
     "ename": "IndexError",
     "evalue": "index 179 is out of bounds for axis 0 with size 16",
     "output_type": "error",
     "traceback": [
      "\u001b[1;31m---------------------------------------------------------------------------\u001b[0m",
      "\u001b[1;31mIndexError\u001b[0m                                Traceback (most recent call last)",
      "\u001b[1;32mc:\\Users\\RLukachek\\Documents\\EE_403W\\LineDetection\\Hough_Test_002.ipynb Cell 4'\u001b[0m in \u001b[0;36m<module>\u001b[1;34m\u001b[0m\n\u001b[0;32m     <a href='vscode-notebook-cell:/c%3A/Users/RLukachek/Documents/EE_403W/LineDetection/Hough_Test_002.ipynb#ch0000003?line=21'>22</a>\u001b[0m             \u001b[39mprint\u001b[39m(rho_index)\n\u001b[0;32m     <a href='vscode-notebook-cell:/c%3A/Users/RLukachek/Documents/EE_403W/LineDetection/Hough_Test_002.ipynb#ch0000003?line=22'>23</a>\u001b[0m             \u001b[39mprint\u001b[39m(j)\n\u001b[1;32m---> <a href='vscode-notebook-cell:/c%3A/Users/RLukachek/Documents/EE_403W/LineDetection/Hough_Test_002.ipynb#ch0000003?line=23'>24</a>\u001b[0m             H[\u001b[39mint\u001b[39m(rho_index)][\u001b[39mint\u001b[39m(j)] \u001b[39m=\u001b[39m H[\u001b[39mint\u001b[39;49m(rho_index)][\u001b[39mint\u001b[39m(j)]\u001b[39m+\u001b[39m\u001b[39m1\u001b[39m\n\u001b[0;32m     <a href='vscode-notebook-cell:/c%3A/Users/RLukachek/Documents/EE_403W/LineDetection/Hough_Test_002.ipynb#ch0000003?line=24'>25</a>\u001b[0m         \u001b[39m#print('b')\u001b[39;00m\n\u001b[0;32m     <a href='vscode-notebook-cell:/c%3A/Users/RLukachek/Documents/EE_403W/LineDetection/Hough_Test_002.ipynb#ch0000003?line=27'>28</a>\u001b[0m plt\u001b[39m.\u001b[39mplot(H)\n",
      "\u001b[1;31mIndexError\u001b[0m: index 179 is out of bounds for axis 0 with size 16"
     ]
    }
   ],
   "source": [
    "#Hough Transform\n",
    "theta_res = np.pi/90\n",
    "rho_res = 2\n",
    "rho_max = rho_res*np.ceil(np.sqrt((height-1)^2+(width-1)^2)/rho_res)\n",
    "rho_scale = np.arange(0,rho_max+rho_res,rho_res)\n",
    "theta_max = 2*np.pi/theta_res\n",
    "#print(theta_max)\n",
    "theta_scale = theta_res * np.linspace(1,theta_max-1,num = int(theta_max-1))\n",
    "H = np.zeros((rho_scale.shape[0], theta_scale.shape[0]))\n",
    "\n",
    "#for theta = 1:length(thetaScale)\n",
    "#                rho = round(col*cos(thetaScale(theta)) + row*sin(thetaScale(theta)));\n",
    "#                if rho > 0\n",
    "#                    rhoIndex = floor((rho/2)+1);\n",
    "#                    H(rhoIndex,theta) = H(rhoIndex,theta)+1;\n",
    "print(theta_scale.shape[0])\n",
    "for i in range(x_values.shape[0]):\n",
    "    for j in range(0,theta_scale.shape[0]):\n",
    "        rho = round(x_values[i]*np.cos(np.deg2rad(j)) + y_values[i] * np.sin(np.deg2rad(j)))\n",
    "        if rho > 0:\n",
    "            rho_index = np.floor((rho/2)+1)\n",
    "            print(rho_index)\n",
    "            print(j)\n",
    "            H[int(rho_index)][int(j)] = H[int(rho_index)][int(j)]+1\n",
    "        #print('b')\n",
    "    \n",
    "\n",
    "plt.plot(H)"
   ]
  },
  {
   "cell_type": "code",
   "execution_count": null,
   "metadata": {},
   "outputs": [
    {
     "data": {
      "text/plain": [
       "<matplotlib.image.AxesImage at 0x227214e7ac0>"
      ]
     },
     "execution_count": 33,
     "metadata": {},
     "output_type": "execute_result"
    },
    {
     "data": {
      "image/png": "[encoded data removed]",
      "text/plain": [
       "<Figure size 432x288 with 1 Axes>"
      ]
     },
     "metadata": {
      "needs_background": "light"
     },
     "output_type": "display_data"
    }
   ],
   "source": [
    "# Test attempt at circular hough transform\n",
    "# Initial tests reveal several semi-cencentric circles along all polarity net change, not current frame change\n",
    "\n",
    "# to get a single 'time frame' load next 10 ms of data together and build an image like this\n",
    "\n",
    "img1 = cv2.imread('circle.jpg',0)\n",
    "img1 = cv2.medianBlur(img1,9)\n",
    "cimg = cv2.cvtColor(img1,cv2.COLOR_GRAY2BGR)\n",
    "\n",
    "circles = cv2.HoughCircles(img1,cv2.HOUGH_GRADIENT,1,10,\n",
    "                            param1=50,param2=30,minRadius=0,maxRadius=0)\n",
    "\n",
    "circles = np.uint16(np.around(circles))\n",
    "for i in circles[0,:]:\n",
    "    # draw the outer circle\n",
    "    cv2.circle(cimg,(i[0],i[1]),i[2],(0,255,0),2)\n",
    "    # draw the center of the circle\n",
    "    cv2.circle(cimg,(i[0],i[1]),2,(0,0,255),3)\n",
    "\n",
    "cv2.imshow('detected circles',cimg)\n",
    "plt.imshow(cimg)\n"
   ]
  },
  {
   "cell_type": "code",
   "execution_count": null,
   "metadata": {},
   "outputs": [
    {
     "data": {
      "text/plain": [
       "True"
      ]
     },
     "execution_count": 30,
     "metadata": {},
     "output_type": "execute_result"
    },
    {
     "data": {
      "image/png": "[encoded data removed]",
      "text/plain": [
       "<Figure size 432x288 with 1 Axes>"
      ]
     },
     "metadata": {
      "needs_background": "light"
     },
     "output_type": "display_data"
    }
   ],
   "source": [
    "#attempt 2 circle hough\n",
    "\n",
    "height, width = record_raw.get_size()\n",
    "\n",
    "#  iteration\n",
    "# load 10M events by batches of 50ms:\n",
    "while not record_raw.is_done() and record_raw.current_event_index() < 1E7:\n",
    "    # load the next 50 ms worth of events\n",
    "    events = record_raw.load_delta_t(50000)\n",
    "    \n",
    "    im = viz_events(events, height, width)\n",
    "    img1 = cv2.medianBlur(img1,9)\n",
    "    cimg = cv2.cvtColor(img1,cv2.COLOR_GRAY2BGR)\n",
    "\n",
    "    circles = cv2.HoughCircles(img1,cv2.HOUGH_GRADIENT,1,10,\n",
    "                            param1=50,param2=30,minRadius=0,maxRadius=0)\n",
    "\n",
    "    circles = np.uint16(np.around(circles))\n",
    "    for i in circles[0,:]:\n",
    "        # draw the outer circle\n",
    "        cv2.circle(cimg,(i[0],i[1]),i[2],(0,255,0),2)\n",
    "        # draw the center of the circle\n",
    "        cv2.circle(cimg,(i[0],i[1]),2,(0,0,255),3)\n",
    "\n",
    "\n",
    "\n",
    "plt.imshow(im)\n",
    "plt.tight_layout()\n",
    "cv2.imwrite('circle.jpg',im)"
   ]
  }
 ],
 "metadata": {
  "interpreter": {
   "hash": "b4e7f3195cf1e24ce8418331d59f43002c689dbd0c00d2a8952d60831217be82"
  },
  "kernelspec": {
   "display_name": "Python 3.8.10 64-bit",
   "language": "python",
   "name": "python3"
  },
  "language_info": {
   "codemirror_mode": {
    "name": "ipython",
    "version": 3
   },
   "file_extension": ".py",
   "mimetype": "text/x-python",
   "name": "python",
   "nbconvert_exporter": "python",
   "pygments_lexer": "ipython3",
   "version": "3.8.10"
  }
 },
 "nbformat": 4,
 "nbformat_minor": 2
}
