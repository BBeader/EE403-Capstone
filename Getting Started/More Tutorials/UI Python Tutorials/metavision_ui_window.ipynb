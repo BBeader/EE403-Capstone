{
 "cells": [
  {
   "cell_type": "raw",
   "metadata": {},
   "source": [
    " :download:`Download the source code <metavision_ui_window.ipynb>`."
   ]
  },
  {
   "cell_type": "markdown",
   "metadata": {},
   "source": [
    "# Simple Window\n",
    "\n",
    "This tutorial shows how to open a Graphical User Interface using the Metavision SDK UI API."
   ]
  },
  {
   "cell_type": "code",
   "execution_count": null,
   "metadata": {},
   "outputs": [],
   "source": [
    "import os\n",
    "import numpy as np\n",
    "import metavision_sdk_ui as mv_ui\n",
    "import cv2"
   ]
  },
  {
   "cell_type": "markdown",
   "metadata": {},
   "source": [
    "### Load names of Keys and Buttons\n",
    "\n"
   ]
  },
  {
   "cell_type": "code",
   "execution_count": null,
   "metadata": {},
   "outputs": [],
   "source": [
    "key_to_name = {}\n",
    "for name, key in mv_ui.UIKeyEvent.__members__.items():\n",
    "    key_to_name[key] = name\n",
    "\n",
    "button_to_name = {}\n",
    "for name, button in mv_ui.UIMouseButton.__members__.items():\n",
    "    button_to_name[button] = name"
   ]
  },
  {
   "cell_type": "markdown",
   "metadata": {},
   "source": [
    "### Display an image and set event-callbacks"
   ]
  },
  {
   "cell_type": "code",
   "execution_count": null,
   "metadata": {},
   "outputs": [],
   "source": [
    "def test_window(img, use_mt):  \n",
    "    # Don't modify the original input image\n",
    "    crt_img = img.copy()\n",
    "    height = img.shape[0]\n",
    "    width = img.shape[1]\n",
    "    \n",
    "    # Grayscale mode\n",
    "    if len(img.shape) == 2:\n",
    "        render_mode =  mv_ui.Window.RenderMode.GRAY\n",
    "        window_title = \"Window GRAY\"\n",
    "        cursor_color = 255\n",
    "        mouse_text_color = 255\n",
    "        key_text_color = 255\n",
    "    # Color mode\n",
    "    elif img.shape[2] == 3:\n",
    "        render_mode =  mv_ui.Window.RenderMode.BGR\n",
    "        window_title = \"Window BGR\"\n",
    "        cursor_color = (0, 0, 255)\n",
    "        mouse_text_color = (0, 255, 0)\n",
    "        key_text_color = (255, 0, 0)\n",
    "    else:\n",
    "        print(\"Incompatible input image's number of channels. Must be either 1 or 3.\")\n",
    "        return\n",
    "    \n",
    "    # Instantiate window\n",
    "    if use_mt:\n",
    "        w = mv_ui.MTWindow(window_title, img.shape[1], img.shape[0], render_mode)\n",
    "    else:\n",
    "        w = mv_ui.Window(window_title, img.shape[1], img.shape[0], render_mode)\n",
    "        \n",
    "    with w:\n",
    "        # Variables used for the callbacks\n",
    "        last_x = 0\n",
    "        last_y = 0\n",
    "        last_mouse_str = \"\"\n",
    "        last_key_str = \"\"\n",
    "        close_window = False\n",
    "\n",
    "        # Callback that will be called when the mouse's cursor moves on the current window\n",
    "        def cursor_cb(x, y):\n",
    "            nonlocal last_x\n",
    "            nonlocal last_y\n",
    "            last_x, last_y = int(x), int(y)\n",
    "\n",
    "        # Callback that will be called when a mouse's button is pressed\n",
    "        def mouse_cb(button, action, mods):\n",
    "            nonlocal last_mouse_str\n",
    "            if action == mv_ui.UIAction.RELEASE:\n",
    "                if button in button_to_name:\n",
    "                    last_mouse_str = button_to_name[button]\n",
    "\n",
    "        # Callback that will be called when a key is pressed            \n",
    "        def keyboard_cb(key, scancode, action, mods):\n",
    "            nonlocal last_key_str\n",
    "            nonlocal close_window\n",
    "            if action == mv_ui.UIAction.RELEASE:\n",
    "                if key in key_to_name:\n",
    "                    last_key_str = key_to_name[key]\n",
    "\n",
    "                if key == mv_ui.UIKeyEvent.KEY_ESCAPE:\n",
    "                    close_window = True\n",
    "\n",
    "        # Sets the callbacks\n",
    "        w.set_cursor_pos_callback(cursor_cb)\n",
    "        w.set_mouse_callback(mouse_cb)\n",
    "        w.set_keyboard_callback(keyboard_cb)\n",
    "\n",
    "        # Display window\n",
    "        while not w.should_close():\n",
    "            # Dispatch system events to the window\n",
    "            mv_ui.EventLoop.poll_and_dispatch()\n",
    "\n",
    "            # Adjust cursor to current window size\n",
    "            crt_width, crt_height = w.get_size()\n",
    "            cursor_x = int((last_x * width) / crt_width)\n",
    "            cursor_y = int((last_y * height) / crt_height)\n",
    "\n",
    "            # Superimpose callbacks results on the image\n",
    "            crt_img = img.copy()\n",
    "            cv2.circle(crt_img, (cursor_x, cursor_y), 15, cursor_color, 2)\n",
    "            cv2.putText(crt_img, last_mouse_str, (20, 40), cv2.FONT_HERSHEY_SIMPLEX, 1, mouse_text_color, 2)\n",
    "            cv2.putText(crt_img, last_key_str, (20, 80), cv2.FONT_HERSHEY_SIMPLEX, 1, key_text_color, 2)\n",
    "\n",
    "            # Show the image\n",
    "            if use_mt:\n",
    "                w.show_async(crt_img)\n",
    "            else:            \n",
    "                w.show(crt_img)\n",
    "\n",
    "            if close_window:\n",
    "                w.set_close_flag()"
   ]
  },
  {
   "cell_type": "markdown",
   "metadata": {},
   "source": [
    "#### Grayscale image"
   ]
  },
  {
   "cell_type": "code",
   "execution_count": null,
   "metadata": {},
   "outputs": [],
   "source": [
    "# Launch the cell and interact with the window using the cursor, keys and mouse buttons\n",
    "img = cv2.imread(\"./metavision_ui_window_files/prophesee.jpg\")\n",
    "img = cv2.cvtColor(img, cv2.COLOR_BGR2GRAY)\n",
    "test_window(img, use_mt=True)"
   ]
  },
  {
   "cell_type": "markdown",
   "metadata": {},
   "source": [
    "#### BGR image"
   ]
  },
  {
   "cell_type": "code",
   "execution_count": null,
   "metadata": {},
   "outputs": [],
   "source": [
    "# Launch the cell and interact with the window using the cursor, keys and mouse buttons\n",
    "img = cv2.imread(\"./metavision_ui_window_files/prophesee.jpg\")\n",
    "test_window(img, use_mt=True)"
   ]
  },
  {
   "cell_type": "raw",
   "metadata": {},
   "source": [
    ".. note::\n",
    "    This tutorial was created using `Jupiter Notebooks <https://jupyter.org/>`_\n",
    "\n",
    "    :download:`Download the source code <metavision_ui_window.ipynb>`."
   ]
  }
 ],
 "metadata": {
  "kernelspec": {
   "display_name": "Python 3",
   "language": "python",
   "name": "python3"
  },
  "language_info": {
   "codemirror_mode": {
    "name": "ipython",
    "version": 3
   },
   "file_extension": ".py",
   "mimetype": "text/x-python",
   "name": "python",
   "nbconvert_exporter": "python",
   "pygments_lexer": "ipython3",
   "version": "3.8.5"
  }
 },
 "nbformat": 4,
 "nbformat_minor": 4
}
