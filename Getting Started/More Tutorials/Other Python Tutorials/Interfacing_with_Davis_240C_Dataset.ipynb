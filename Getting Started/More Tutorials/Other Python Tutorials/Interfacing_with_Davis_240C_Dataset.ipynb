{
 "cells": [
  {
   "cell_type": "raw",
   "metadata": {},
   "source": [
    " :download:`Download the source code <Interfacing_with_Davis_240C_Dataset.ipynb>`."
   ]
  },
  {
   "cell_type": "markdown",
   "metadata": {},
   "source": [
    "# Interfacing with Davis 240C Dataset\n",
    "\n",
    "\n",
    "This tutorial shows how to read data from an external source (Davis 240C Dataset) and to convert it into Metavision EventCD format. Then we show how to apply various events filtering algorithms and display some basic statistics about the event-rate."
   ]
  },
  {
   "cell_type": "code",
   "execution_count": null,
   "metadata": {},
   "outputs": [],
   "source": [
    "from tqdm.notebook import tqdm\n",
    "import requests\n",
    "import os\n",
    "\n",
    "import matplotlib.pyplot as plt\n",
    "%matplotlib inline\n",
    "\n",
    "sequence_name = \"office_zigzag\"\n",
    "sequence_filename = \"{}.zip\".format(sequence_name)\n",
    "\n",
    "if not os.path.exists(\"{}\".format(sequence_filename)):\n",
    "    url = \"http://rpg.ifi.uzh.ch/datasets/davis/{}\".format(sequence_filename)\n",
    "    # Streaming, so we can iterate over the response.\n",
    "    r = requests.get(url, stream=True)\n",
    "    # Total size in bytes.\n",
    "    total_size = int(r.headers.get('content-length', 0))\n",
    "    block_size = 1024\n",
    "    t = tqdm(total=total_size, unit='iB', unit_scale=True)\n",
    "    with open('{}'.format(sequence_filename), 'wb') as f:\n",
    "        for data in r.iter_content(block_size):\n",
    "            t.update(len(data))\n",
    "            f.write(data)\n",
    "    t.close()\n",
    "    if total_size != 0 and t.n != total_size:\n",
    "        print(\"ERROR, something went wrong\")\n",
    "else:\n",
    "    print(\"File already exists\")\n",
    "assert os.path.exists(\"{}\".format(sequence_filename))"
   ]
  },
  {
   "cell_type": "markdown",
   "metadata": {},
   "source": [
    "### Display the images\n",
    "\n",
    "Then we display the images for that particular sequence."
   ]
  },
  {
   "cell_type": "code",
   "execution_count": null,
   "metadata": {},
   "outputs": [],
   "source": [
    "from zipfile import ZipFile\n",
    "import cv2\n",
    "import numpy as np\n",
    "\n",
    "from ipywidgets import interact\n",
    "from PIL import Image\n",
    "\n",
    "\n",
    "list_images = []\n",
    "\n",
    "with ZipFile(sequence_filename, 'r') as myzip:\n",
    "    with myzip.open(\"images.txt\") as images_file:\n",
    "        for line in images_file.readlines():\n",
    "            line = line.strip()\n",
    "            if line == \"\":\n",
    "                continue\n",
    "            filename_image = line.split()[1].decode()\n",
    "            nparr = np.frombuffer(myzip.open(filename_image).read(), np.uint8)\n",
    "            img_np = cv2.imdecode(nparr, cv2.IMREAD_COLOR) # cv2.IMREAD_COLOR in OpenCV 3.1\n",
    "            list_images.append(img_np)\n",
    "\n",
    "def display_sequence(images):\n",
    "    def _show(frame=(0, len(images)-1)):\n",
    "        return Image.fromarray(images[frame])\n",
    "    interact(_show)\n",
    "\n",
    "plt.imshow(list_images[len(list_images) // 2])\n",
    "display_sequence(list_images)"
   ]
  },
  {
   "cell_type": "markdown",
   "metadata": {},
   "source": [
    "### Load the events\n",
    "\n",
    "Then, we load the sequence of events from the text file (one event per line). Once the file is read, the python dictionary is converted into a numpy structured array of EventCD. This numpy array can be saved using standard function `numpy.save()` and reloaded using standard function `numpy.load()`."
   ]
  },
  {
   "cell_type": "code",
   "execution_count": null,
   "metadata": {},
   "outputs": [],
   "source": [
    "from metavision_sdk_base import EventCD  # numpy dtype\n",
    "\n",
    "sequence_npy = \"{}.npy\".format(sequence_name)\n",
    "\n",
    "if not os.path.exists(sequence_npy):\n",
    "    print(\"Processing filename: \", sequence_filename)\n",
    "    dic_events = {}\n",
    "    for name in EventCD.names:\n",
    "        dic_events[name] = []\n",
    "\n",
    "    with ZipFile(sequence_filename, 'r') as myzip:\n",
    "        with myzip.open(\"events.txt\") as events_file:\n",
    "            for line in tqdm(events_file):\n",
    "                line = line.decode().strip()\n",
    "                if line == \"\":\n",
    "                    continue\n",
    "                t, x, y, p = line.split()\n",
    "                ev = np.empty(1, dtype=EventCD)\n",
    "                dic_events[\"x\"].append(int(x))\n",
    "                dic_events[\"y\"].append(int(y))\n",
    "                dic_events[\"p\"].append(int(p))\n",
    "                dic_events[\"t\"].append(int(float(t) * 1e6))\n",
    "\n",
    "\n",
    "    events_np = np.empty(len(dic_events[\"x\"]), dtype=EventCD)\n",
    "    for name in EventCD.names:\n",
    "        events_np[name] = np.array(dic_events[name])\n",
    "\n",
    "    np.save(sequence_npy, events_np)\n",
    "else:\n",
    "    events_np = np.load(sequence_npy)\n",
    "\n",
    "assert events_np.dtype == EventCD\n",
    "print(\"Loaded {} events\".format(len(events_np)))"
   ]
  },
  {
   "cell_type": "markdown",
   "metadata": {},
   "source": [
    "This numpy structured array of EventCD is the input format for various Metavision algorithms. In the next section, we will apply several event filtering algorithms and compare their results."
   ]
  },
  {
   "cell_type": "markdown",
   "metadata": {},
   "source": [
    "### Comparing: Activity / SpatioTemporalConstrast / Trail\n",
    "\n",
    "In this section, we show how to apply several filtering algorithms on the sequence of events. We process events by chunks of 10 ms (`delta_t = 10000`). We then convert the filtered events into visual frames display them side-by-side for visual inspection."
   ]
  },
  {
   "cell_type": "code",
   "execution_count": null,
   "metadata": {},
   "outputs": [],
   "source": [
    "import metavision_sdk_cv\n",
    "from metavision_sdk_core import BaseFrameGenerationAlgorithm\n",
    "import cv2\n",
    "\n",
    "height, width, _ = list_images[0].shape\n",
    "\n",
    "assert (events_np[\"x\"] < width).all()\n",
    "assert (events_np[\"y\"] < height).all()\n",
    "\n",
    "\n",
    "trail_filter = metavision_sdk_cv.TrailFilterAlgorithm(width=width, height=height, threshold=10000)\n",
    "stc_filter = metavision_sdk_cv.SpatioTemporalContrastAlgorithm(width=width, height=height, threshold=10000)\n",
    "activity_filter = metavision_sdk_cv.ActivityNoiseFilterAlgorithm(width=width, height=height, threshold=20000)\n",
    "\n",
    "trail_buf = trail_filter.get_empty_output_buffer()\n",
    "stc_buf = stc_filter.get_empty_output_buffer()\n",
    "activity_buf = activity_filter.get_empty_output_buffer()\n",
    "\n",
    "list_images_concat = []\n",
    "list_nb_ev = []\n",
    "list_nb_ev_trail = []\n",
    "list_nb_ev_stc = []\n",
    "list_nb_ev_activity = []\n",
    "\n",
    "ts = 0\n",
    "start_idx = 0\n",
    "delta_t = 10000\n",
    "\n",
    "im = np.zeros((height, width, 3), dtype=np.uint8)\n",
    "im_trail = im.copy()\n",
    "im_stc = im.copy()\n",
    "im_activity = im.copy()\n",
    "\n",
    "while start_idx < len(events_np):\n",
    "    ts += delta_t\n",
    "    end_idx = np.searchsorted(events_np[\"t\"], ts)\n",
    "    ev = events_np[start_idx:end_idx]\n",
    "    start_idx = end_idx\n",
    "\n",
    "    trail_filter.process_events(ev, trail_buf)\n",
    "    stc_filter.process_events(ev, stc_buf)\n",
    "    activity_filter.process_events(ev, activity_buf)\n",
    "\n",
    "    ev_trail = trail_buf.numpy()\n",
    "    ev_stc = stc_buf.numpy()\n",
    "    ev_activity = activity_buf.numpy()\n",
    "\n",
    "    list_nb_ev.append(ev.size)\n",
    "    list_nb_ev_trail.append(ev_trail.size)\n",
    "    list_nb_ev_stc.append(ev_stc.size)\n",
    "    list_nb_ev_activity.append(ev_activity.size)\n",
    "\n",
    "    BaseFrameGenerationAlgorithm.generate_frame(ev, im)\n",
    "    BaseFrameGenerationAlgorithm.generate_frame(ev_trail, im_trail)\n",
    "    BaseFrameGenerationAlgorithm.generate_frame(ev_stc, im_stc)\n",
    "    BaseFrameGenerationAlgorithm.generate_frame(ev_activity, im_activity)\n",
    "\n",
    "    im_concat = np.concatenate((im, im_trail, im_stc, im_activity), axis=1)\n",
    "    im_concat[:, width, 0] = 255\n",
    "    im_concat[:, 2*width, 1] = 255\n",
    "    im_concat[:, 3*width, 0:2] = 255\n",
    "    list_images_concat.append(im_concat)\n",
    "    \n",
    "    cv2.imshow(\"{}   [ original | trail | stc | activity ]\".format(sequence_name), im_concat[:, :, ::-1])\n",
    "    if cv2.waitKey(1) & 0xFF == ord('q'):\n",
    "        break\n",
    "\n",
    "cv2.destroyAllWindows()\n",
    "fig = plt.figure(figsize=(20, 10))\n",
    "plt.imshow(list_images_concat[len(list_images_concat) // 2])\n",
    "display_sequence(list_images_concat)"
   ]
  },
  {
   "cell_type": "markdown",
   "metadata": {},
   "source": [
    "Finally, we draw a plot to display the evolution of the event-rate over the course of the sequence for the different filtering strategies."
   ]
  },
  {
   "cell_type": "code",
   "execution_count": null,
   "metadata": {},
   "outputs": [],
   "source": [
    "time_in_seconds = np.arange(0, len(list_nb_ev) * delta_t * 1e-6, delta_t * 1e-6)\n",
    "\n",
    "fig = plt.figure(figsize=(20, 10))\n",
    "ax = plt.axes()\n",
    "plt.grid(alpha=0.3, linestyle=\"--\")\n",
    "plt.plot(time_in_seconds, np.array(list_nb_ev) / delta_t, label=\"No filtering\")\n",
    "plt.plot(time_in_seconds, np.array(list_nb_ev_trail) / delta_t, label='Trail filter')\n",
    "plt.plot(time_in_seconds, np.array(list_nb_ev_stc) / delta_t, label='STC filter')\n",
    "plt.plot(time_in_seconds, np.array(list_nb_ev_activity) / delta_t, label='Activity filter')\n",
    "plt.xlabel('time in seconds')\n",
    "plt.ylabel('Mev per second')\n",
    "plt.title(\"Event rate (Million events per second)\")\n",
    "plt.legend()\n",
    "plt.show()"
   ]
  },
  {
   "cell_type": "markdown",
   "metadata": {},
   "source": [
    "### Conclusion\n",
    "\n",
    "We have shown how to convert an external dataset of events into Metavision EventCD format and how to seamlessly apply algorithms to filter those events. As this format relies on standard numpy structured arrays, saving/reloading/slicing and interfacing with various python-based components is straightforward."
   ]
  },
  {
   "cell_type": "raw",
   "metadata": {},
   "source": [
    ".. note::\n",
    "    This tutorial was created using `Jupiter Notebooks <https://jupyter.org/>`_\n",
    "\n",
    "    :download:`Download the source code <Interfacing_with_Davis_240C_Dataset.ipynb>`."
   ]
  }
 ],
 "metadata": {
  "kernelspec": {
   "display_name": "Python 3",
   "language": "python",
   "name": "python3"
  },
  "language_info": {
   "codemirror_mode": {
    "name": "ipython",
    "version": 3
   },
   "file_extension": ".py",
   "mimetype": "text/x-python",
   "name": "python",
   "nbconvert_exporter": "python",
   "pygments_lexer": "ipython3",
   "version": "3.6.12"
  }
 },
 "nbformat": 4,
 "nbformat_minor": 4
}
