{
 "cells": [
  {
   "cell_type": "raw",
   "metadata": {},
   "source": [
    " :download:`Download the source code <metavision_sdk_core_bindings.ipynb>`."
   ]
  },
  {
   "cell_type": "markdown",
   "metadata": {},
   "source": [
    "# SDK Core Python bindings\n",
    "\n",
    "In this notebook, we describe some of the processes available in Python in the module `metavision_sdk_core` and present the results visually\n"
   ]
  },
  {
   "cell_type": "code",
   "execution_count": null,
   "metadata": {},
   "outputs": [],
   "source": [
    "import metavision_sdk_core\n",
    "from metavision_sdk_base import EventCD\n",
    "from metavision_core.event_io import RawReader\n",
    "from metavision_sdk_core import BaseFrameGenerationAlgorithm\n",
    "\n",
    "# if the file doesn't exist, it will be downloaded from Prophesee's public sample server \n",
    "from metavision_core.utils import get_sample\n",
    "\n",
    "%matplotlib inline\n",
    "import numpy as np\n",
    "from matplotlib import pyplot as plt\n",
    "plt.rcParams['figure.figsize'] = [11, 7]\n",
    "import os"
   ]
  },
  {
   "cell_type": "markdown",
   "metadata": {},
   "source": [
    "## Load automotive sequence"
   ]
  },
  {
   "cell_type": "code",
   "execution_count": null,
   "metadata": {},
   "outputs": [],
   "source": [
    "sequence_filename_raw = \"driving_sample.raw\"\n",
    "get_sample(sequence_filename_raw, folder=\".\")\n",
    "assert os.path.isfile(sequence_filename_raw)\n",
    "\n",
    "mv_raw = RawReader(sequence_filename_raw)\n",
    "height, width = mv_raw.get_size()\n",
    "assert (width, height) == (1280, 720)\n",
    "\n",
    "ev = mv_raw.load_delta_t(10000)\n",
    "\n",
    "image = np.zeros((height, width, 3), dtype=np.uint8)\n",
    "BaseFrameGenerationAlgorithm.generate_frame(ev, image)\n",
    "plt.imshow(image[:,:,::-1])"
   ]
  },
  {
   "cell_type": "markdown",
   "metadata": {},
   "source": [
    "## ROIFilterAlgorithm\n",
    "\n",
    "### Output absolute coordinates (default)\n",
    "\n",
    "Coordinates of output events are unchanged (expressed in the frame's coordinate system)"
   ]
  },
  {
   "cell_type": "code",
   "execution_count": null,
   "metadata": {},
   "outputs": [],
   "source": [
    "roi_filter = metavision_sdk_core.RoiFilterAlgorithm(750, 250, 1000, 450)\n",
    "filtered_events_buffer = roi_filter.get_empty_output_buffer()\n",
    "assert filtered_events_buffer.numpy().dtype == EventCD\n",
    "\n",
    "roi_filter.process_events(ev, filtered_events_buffer)\n",
    "filtered_events_np = filtered_events_buffer.numpy()\n",
    "\n",
    "\n",
    "assert filtered_events_np[\"x\"].min() >= 750\n",
    "assert filtered_events_np[\"x\"].max() <= 1000\n",
    "assert filtered_events_np[\"y\"].min() >= 250\n",
    "assert filtered_events_np[\"y\"].max() <= 450\n",
    "\n",
    "BaseFrameGenerationAlgorithm.generate_frame(filtered_events_np, image)\n",
    "plt.imshow(image[:,:,::-1])"
   ]
  },
  {
   "cell_type": "markdown",
   "metadata": {},
   "source": [
    "### Output relative coordinates\n",
    "\n",
    "Coordinates are expressed in the coordinate system of the ROI (top left of the ROI region is (0,0))"
   ]
  },
  {
   "cell_type": "code",
   "execution_count": null,
   "metadata": {},
   "outputs": [],
   "source": [
    "roi_filter_relative = metavision_sdk_core.RoiFilterAlgorithm(750, 250, 999, 449, output_relative_coordinates=True)\n",
    "filtered_events_buffer = roi_filter_relative.get_empty_output_buffer()\n",
    "assert filtered_events_buffer.numpy().dtype == EventCD\n",
    "\n",
    "roi_filter_relative.process_events(ev, filtered_events_buffer)\n",
    "filtered_events_np = filtered_events_buffer.numpy()\n",
    "\n",
    "\n",
    "assert filtered_events_np[\"x\"].min() >= 0\n",
    "assert filtered_events_np[\"x\"].max() < 250\n",
    "assert filtered_events_np[\"y\"].min() >= 0\n",
    "assert filtered_events_np[\"y\"].max() < 200\n",
    "\n",
    "image_small = np.zeros((201, 251, 3), dtype=np.uint8)\n",
    "BaseFrameGenerationAlgorithm.generate_frame(filtered_events_np, image_small)\n",
    "plt.imshow(image_small[:,:,::-1])"
   ]
  },
  {
   "cell_type": "markdown",
   "metadata": {},
   "source": [
    "## FlipXAlgorithm / FlipYAlgorithm"
   ]
  },
  {
   "cell_type": "code",
   "execution_count": null,
   "metadata": {},
   "outputs": [],
   "source": [
    "flip_x = metavision_sdk_core.FlipXAlgorithm(width - 1)\n",
    "flipped_events_buffer = flip_x.get_empty_output_buffer()\n",
    "\n",
    "flip_x.process_events(ev, flipped_events_buffer)\n",
    "plt.title(\"Events flipped horizontally\")\n",
    "BaseFrameGenerationAlgorithm.generate_frame(flipped_events_buffer.numpy(), image)\n",
    "plt.imshow(image[:,:,::-1])"
   ]
  },
  {
   "cell_type": "markdown",
   "metadata": {},
   "source": [
    "### Processing in-place\n",
    "\n",
    "Calling `process_events()` does not change the input events. To perform processing in-place, use the method `process_events_()` instead.\n"
   ]
  },
  {
   "cell_type": "code",
   "execution_count": null,
   "metadata": {},
   "outputs": [],
   "source": [
    "plt.title(\"Input events\")\n",
    "BaseFrameGenerationAlgorithm.generate_frame(ev, image)\n",
    "plt.imshow(image[:,:,::-1])"
   ]
  },
  {
   "cell_type": "code",
   "execution_count": null,
   "metadata": {},
   "outputs": [],
   "source": [
    "flip_y = metavision_sdk_core.FlipYAlgorithm(height - 1)\n",
    "flip_y.process_events_(ev)\n",
    "# input events have been processed in-place\n",
    "plt.title(\"Events flipped vertically\")\n",
    "BaseFrameGenerationAlgorithm.generate_frame(ev, image)\n",
    "plt.imshow(image[:,:,::-1])"
   ]
  },
  {
   "cell_type": "markdown",
   "metadata": {},
   "source": [
    "## Load hand-spinner sequence"
   ]
  },
  {
   "cell_type": "code",
   "execution_count": null,
   "metadata": {},
   "outputs": [],
   "source": [
    "sequence_filename_raw = \"spinner.raw\"\n",
    "get_sample(sequence_filename_raw, folder=\".\")\n",
    "assert os.path.isfile(sequence_filename_raw)\n",
    "\n",
    "mv_raw = RawReader(sequence_filename_raw)\n",
    "height, width = mv_raw.get_size()\n",
    "assert (width, height) == (640, 480)\n",
    "\n",
    "ev = mv_raw.load_delta_t(5000) # 5 ms\n",
    "\n",
    "image = np.zeros((height, width, 3), dtype=np.uint8)\n",
    "BaseFrameGenerationAlgorithm.generate_frame(ev, image)\n",
    "\n",
    "plt.title(\"Input events\")\n",
    "plt.imshow(image[:,:,::-1])"
   ]
  },
  {
   "cell_type": "markdown",
   "metadata": {},
   "source": [
    "## PolarityInverterAlgorithm\n",
    "\n",
    "This is used to invert the polarity of events"
   ]
  },
  {
   "cell_type": "code",
   "execution_count": null,
   "metadata": {},
   "outputs": [],
   "source": [
    "polarity_inverter = metavision_sdk_core.PolarityInverterAlgorithm()\n",
    "filtered_events_buf = polarity_inverter.get_empty_output_buffer()\n",
    "\n",
    "polarity_inverter.process_events(ev, filtered_events_buf)\n",
    "BaseFrameGenerationAlgorithm.generate_frame(filtered_events_buf.numpy(), image)\n",
    "plt.title(\"Inverted polarity\")\n",
    "plt.imshow(image[:,:,::-1])"
   ]
  },
  {
   "cell_type": "markdown",
   "metadata": {},
   "source": [
    "## PolarityFilterAlgorithm\n",
    "\n",
    "This is used to filter the events by polarity"
   ]
  },
  {
   "cell_type": "code",
   "execution_count": null,
   "metadata": {},
   "outputs": [],
   "source": [
    "polarity_filter = metavision_sdk_core.PolarityFilterAlgorithm(1)\n",
    "filtered_events_buf = polarity_filter.get_empty_output_buffer() # keep only positive events\n",
    "\n",
    "polarity_filter.process_events(ev, filtered_events_buf)\n",
    "BaseFrameGenerationAlgorithm.generate_frame(filtered_events_buf.numpy(), image)\n",
    "plt.title(\"Keep only positive events\")\n",
    "plt.imshow(image[:,:,::-1])"
   ]
  },
  {
   "cell_type": "code",
   "execution_count": null,
   "metadata": {},
   "outputs": [],
   "source": [
    "polarity_filter.polarity = 0 # keep only negative events\n",
    "polarity_filter.process_events(ev, filtered_events_buf)\n",
    "BaseFrameGenerationAlgorithm.generate_frame(filtered_events_buf.numpy(), image)\n",
    "plt.title(\"Keep only negative events\")\n",
    "plt.imshow(image[:,:,::-1])"
   ]
  },
  {
   "cell_type": "markdown",
   "metadata": {},
   "source": [
    "## Load counting sequence and select a Region Of Interest"
   ]
  },
  {
   "cell_type": "code",
   "execution_count": null,
   "metadata": {},
   "outputs": [],
   "source": [
    "sequence_filename_raw = \"80_balls.raw\"\n",
    "get_sample(sequence_filename_raw, folder=\".\")\n",
    "assert os.path.isfile(sequence_filename_raw)\n",
    "\n",
    "mv_raw = RawReader(sequence_filename_raw)\n",
    "height, width = mv_raw.get_size()\n",
    "assert (width, height) == (640, 480)\n",
    "\n",
    "ev = mv_raw.load_n_events(3000) # discard first 3000 events\n",
    "\n",
    "ev = mv_raw.load_n_events(3000) # process next 3000 events\n",
    "ev[\"t\"] -= ev[\"t\"].min()\n",
    "\n",
    "image = np.zeros((height, width, 3), dtype=np.uint8)\n",
    "BaseFrameGenerationAlgorithm.generate_frame(ev, image)\n",
    "\n",
    "plt.title(\"Input events\")\n",
    "plt.imshow(image[:,:,::-1])"
   ]
  },
  {
   "cell_type": "code",
   "execution_count": null,
   "metadata": {},
   "outputs": [],
   "source": [
    "roi_filter = metavision_sdk_core.RoiFilterAlgorithm(300, 0, 350, 50, output_relative_coordinates=True)\n",
    "ev_roi_buffer = roi_filter.get_empty_output_buffer()\n",
    "roi_filter.process_events(ev, ev_roi_buffer)\n",
    "roi_width, roi_height = 51, 51\n",
    "\n",
    "image_roi = np.zeros((roi_height, roi_width, 3), dtype=np.uint8)\n",
    "BaseFrameGenerationAlgorithm.generate_frame(ev_roi_buffer.numpy(), image_roi)\n",
    "\n",
    "plt.title(\"Input events in ROI\")\n",
    "plt.imshow(image_roi[:,:,::-1])"
   ]
  },
  {
   "cell_type": "markdown",
   "metadata": {},
   "source": [
    "## TimeSurfaceProducerAlgorithm\n",
    "\n",
    "We can compute a Time-Surface on this chunk of events. It can be computed either by separating the positive and negative events, or by merging them in the same channel.\n",
    "\n",
    "### Separating positive and negative events"
   ]
  },
  {
   "cell_type": "code",
   "execution_count": null,
   "metadata": {},
   "outputs": [],
   "source": [
    "last_processed_timestamp = 0\n",
    "time_surface_double_channel = metavision_sdk_core.MostRecentTimestampBuffer(rows=roi_width,\n",
    "                                                                            cols=roi_height,\n",
    "                                                                            channels=2)\n",
    "\n",
    "ts_prod_double_channel = metavision_sdk_core.TimeSurfaceProducerAlgorithmSplitPolarities(width=roi_width,\n",
    "                                                                                         height=roi_height)\n",
    "def callback_double_channel(ts, time_surface):\n",
    "    global last_processed_timestamp\n",
    "    global time_surface_double_channel\n",
    "    last_processed_timestamp = ts\n",
    "    time_surface_double_channel.numpy()[...] = time_surface.numpy()[...]\n",
    "ts_prod_double_channel.set_output_callback(callback_double_channel)\n",
    "\n",
    "ts_prod_double_channel.process_events(ev_roi_buffer)\n",
    "plt.title(\"TimeSurface positive events\")\n",
    "plt.imshow(time_surface_double_channel.numpy()[:,:,1])"
   ]
  },
  {
   "cell_type": "code",
   "execution_count": null,
   "metadata": {},
   "outputs": [],
   "source": [
    "plt.title(\"TimeSurface negative events\")\n",
    "plt.imshow(time_surface_double_channel.numpy()[:,:,0])"
   ]
  },
  {
   "cell_type": "markdown",
   "metadata": {},
   "source": [
    "### Merging positive and negative events"
   ]
  },
  {
   "cell_type": "code",
   "execution_count": null,
   "metadata": {},
   "outputs": [],
   "source": [
    "last_processed_timestamp = 0\n",
    "time_surface_single_channel = metavision_sdk_core.MostRecentTimestampBuffer(rows=roi_height,\n",
    "                                                                            cols=roi_width,\n",
    "                                                                            channels=1)\n",
    "\n",
    "ts_prod_single_channel = metavision_sdk_core.TimeSurfaceProducerAlgorithmMergePolarities(width=roi_width,\n",
    "                                                                                         height=roi_height)\n",
    "def callback_single_channel(ts, time_surface):\n",
    "    global last_processed_timestamp\n",
    "    global time_surface_single_channel\n",
    "    last_processed_timestamp = ts\n",
    "    time_surface_single_channel.numpy()[...] = time_surface.numpy()[...]\n",
    "ts_prod_single_channel.set_output_callback(callback_single_channel)\n",
    "\n",
    "ts_prod_single_channel.process_events(ev_roi_buffer)\n",
    "plt.title(\"TimeSurface\")\n",
    "min_time = time_surface_single_channel.numpy()[time_surface_single_channel.numpy() != 0].min()\n",
    "plt.imshow(time_surface_single_channel.numpy())"
   ]
  },
  {
   "cell_type": "raw",
   "metadata": {},
   "source": [
    ".. note::\n",
    "    This tutorial was created using `Jupiter Notebooks <https://jupyter.org/>`_\n",
    "\n",
    "    :download:`Download the source code <metavision_sdk_core_bindings.ipynb>`."
   ]
  }
 ],
 "metadata": {
  "language_info": {
   "name": "python"
  }
 },
 "nbformat": 4,
 "nbformat_minor": 4
}
