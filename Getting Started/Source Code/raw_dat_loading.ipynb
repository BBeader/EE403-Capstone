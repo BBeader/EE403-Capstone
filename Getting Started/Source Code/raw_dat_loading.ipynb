{
 "cells": [
  {
   "cell_type": "raw",
   "metadata": {},
   "source": [
    " :download:`Download the source code <raw_dat_loading.ipynb>`."
   ]
  },
  {
   "cell_type": "markdown",
   "metadata": {},
   "source": [
    "# RAW File Loading"
   ]
  },
  {
   "cell_type": "raw",
   "metadata": {},
   "source": [
    "In this tutorial you will learn how to open RAW or DAT files using the :py:class:`metavision_core.event_io.RawReader` and :py:class:`metavision_core.event_io.EventDatReader` classes."
   ]
  },
  {
   "cell_type": "code",
   "execution_count": null,
   "metadata": {},
   "outputs": [],
   "source": [
    "import os\n",
    "import numpy as np\n",
    "\n",
    "from metavision_core.event_io.raw_reader import RawReader\n",
    "from metavision_core.event_io.py_reader import EventDatReader"
   ]
  },
  {
   "cell_type": "markdown",
   "metadata": {},
   "source": [
    "## Opening a File\n",
    "\n",
    "Opening a RAW or DAT file is as easy as creating a new `RawReader` or `EventDatReader` passing the path of the file.\n",
    "Printing the created object will show some metadata about the reading status, such as the current index time and position.\n",
    "\n",
    "Note how RAW files and DAT files contain different metadata."
   ]
  },
  {
   "cell_type": "code",
   "execution_count": null,
   "metadata": {},
   "outputs": [],
   "source": [
    "input_path_raw = \"spinner.raw\"\n",
    "input_path_dat = \"spinner.dat\"\n",
    "# if the file doesn't exist, it will be downloaded from Prophesee's public sample server \n",
    "from metavision_core.utils import get_sample\n",
    "\n",
    "get_sample(input_path_raw, folder=\".\")\n",
    "get_sample(input_path_dat, folder=\".\")"
   ]
  },
  {
   "cell_type": "markdown",
   "metadata": {},
   "source": [
    "Here is an example of openning a RAW file.\n"
   ]
  },
  {
   "cell_type": "code",
   "execution_count": null,
   "metadata": {},
   "outputs": [],
   "source": [
    "# open a file\n",
    "record_raw = RawReader(input_path_raw)\n",
    "print(record_raw)  # show some metadata"
   ]
  },
  {
   "cell_type": "markdown",
   "metadata": {},
   "source": [
    "Here is an example of openning a DAT file.\n"
   ]
  },
  {
   "cell_type": "code",
   "execution_count": null,
   "metadata": {},
   "outputs": [],
   "source": [
    "record_dat = EventDatReader(input_path_dat)\n",
    "print(record_dat)"
   ]
  },
  {
   "cell_type": "markdown",
   "metadata": {},
   "source": [
    "## Getting the Events\n",
    "\n",
    "Now that the reader is created, we can get the events. This is done in the same way for both RAW and DAT files. Here we show an example using the RAW file, but the same can be done using the DAT file.\n",
    "\n",
    "There are two ways to read events: \n",
    "\n",
    "* by number of events, using the `load_n_events()` function\n",
    "* by time slices, using the `load_delta_t()` function\n"
   ]
  },
  {
   "cell_type": "code",
   "execution_count": null,
   "metadata": {},
   "outputs": [],
   "source": [
    "events = record_raw.load_n_events(10)  # load the 10 next events\n",
    "events_by_time = record_raw.load_delta_t(10000)  # load the next 10ms of data\n",
    "\n",
    "print(events)"
   ]
  },
  {
   "cell_type": "markdown",
   "metadata": {},
   "source": [
    "Events are stored in a numpy [structured array](https://numpy.org/doc/stable/user/basics.rec.html). This means you can conveniently access each attribute of the events ($x$,$y$, polarity $p$ and timestamp $t$) as a numpy array. It also allows to use native numpy operators such as [slicing](https://numpy.org/devdocs/user/basics.indexing.html?highlight=slice#combining-index-arrays-with-slices) or [boolean masking](https://numpy.org/devdocs/user/basics.indexing.html?highlight=slice#boolean-or-mask-index-arrays)"
   ]
  },
  {
   "cell_type": "code",
   "execution_count": null,
   "metadata": {},
   "outputs": [],
   "source": [
    "# we can access different fields in this one dimensional array\n",
    "print(events['t'])  # this shows only the timestamps of events\n",
    "# for instance, to count the events of positive polarity you can do:\n",
    "np.sum(events['p'] == 1)"
   ]
  },
  {
   "cell_type": "code",
   "execution_count": null,
   "metadata": {},
   "outputs": [],
   "source": [
    "# let's randomly select some events\n",
    "np.random.choice(events, len(events)//2)"
   ]
  },
  {
   "cell_type": "markdown",
   "metadata": {},
   "source": [
    "## Iteration\n",
    "\n",
    "The two functions `load_n_events()` and `load_delta_t()` can be used to read all events in a file using a `while` loop."
   ]
  },
  {
   "cell_type": "code",
   "execution_count": null,
   "metadata": {},
   "outputs": [],
   "source": [
    "sums = 0\n",
    "#  load 10M events by batches of 50ms:\n",
    "while not record_raw.is_done() and record_raw.current_event_index() < 1E7:\n",
    "    # load the next 50 ms worth of events\n",
    "    events = record_raw.load_delta_t(50000)\n",
    "    sums += events.size\n",
    "print(\"Event count: {}\".format(sums))\n",
    "print(record_raw)"
   ]
  },
  {
   "cell_type": "markdown",
   "metadata": {},
   "source": [
    "You can restart from the beginning by calling the `reset` function. Note how all attributes are reset, and the event timestamps are the same as the first ones above."
   ]
  },
  {
   "cell_type": "code",
   "execution_count": null,
   "metadata": {},
   "outputs": [],
   "source": [
    "record_raw.reset()\n",
    "print(record_raw)"
   ]
  },
  {
   "cell_type": "markdown",
   "metadata": {},
   "source": [
    "## Visualization"
   ]
  },
  {
   "cell_type": "markdown",
   "metadata": {},
   "source": [
    "We can visualize events using a function that will prepare an image from the numpy array of events.\n",
    "\n",
    "Then we can display this image using standard visualization tools, such as [Matplotlib](<https://matplotlib.org/>)."
   ]
  },
  {
   "cell_type": "code",
   "execution_count": null,
   "metadata": {},
   "outputs": [],
   "source": [
    "\n",
    "def viz_events(events, height, width):\n",
    "    img = np.full((height, width, 3), 128, dtype=np.uint8)\n",
    "    img[events['y'], events['x']] = 255 * events['p'][:, None]\n",
    "    return img\n"
   ]
  },
  {
   "cell_type": "code",
   "execution_count": null,
   "metadata": {},
   "outputs": [],
   "source": [
    "%matplotlib inline\n",
    "from matplotlib import pyplot as plt  # graphic library, for plots\n",
    "\n",
    "height, width = record_raw.get_size()\n",
    "\n",
    "# load the next 50 ms worth of events\n",
    "events = record_raw.load_delta_t(50000)\n",
    "im = viz_events(events, height, width)\n",
    "\n",
    "plt.imshow(im)\n",
    "plt.tight_layout()"
   ]
  },
  {
   "cell_type": "raw",
   "metadata": {},
   "source": [
    ".. note::\n",
    "    This tutorial was created using `Jupiter Notebooks <https://jupyter.org/>`_\n",
    "\n",
    "    :download:`Download the source code <raw_dat_loading.ipynb>`."
   ]
  }
 ],
 "metadata": {
  "language_info": {
   "name": "python"
  }
 },
 "nbformat": 4,
 "nbformat_minor": 2
}
